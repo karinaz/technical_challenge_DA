{
 "cells": [
  {
   "cell_type": "markdown",
   "id": "2794e9ad",
   "metadata": {},
   "source": [
    "The goal is to find the best combustible for car consumption "
   ]
  },
  {
   "cell_type": "code",
   "execution_count": 1,
   "id": "0bfb2b3c",
   "metadata": {},
   "outputs": [],
   "source": [
    "import pandas as pd"
   ]
  },
  {
   "cell_type": "code",
   "execution_count": 2,
   "id": "e1519858",
   "metadata": {},
   "outputs": [
    {
     "data": {
      "text/html": [
       "<div>\n",
       "<style scoped>\n",
       "    .dataframe tbody tr th:only-of-type {\n",
       "        vertical-align: middle;\n",
       "    }\n",
       "\n",
       "    .dataframe tbody tr th {\n",
       "        vertical-align: top;\n",
       "    }\n",
       "\n",
       "    .dataframe thead th {\n",
       "        text-align: right;\n",
       "    }\n",
       "</style>\n",
       "<table border=\"1\" class=\"dataframe\">\n",
       "  <thead>\n",
       "    <tr style=\"text-align: right;\">\n",
       "      <th></th>\n",
       "      <th>distance</th>\n",
       "      <th>consume</th>\n",
       "      <th>speed</th>\n",
       "      <th>temp_inside</th>\n",
       "      <th>temp_outside</th>\n",
       "      <th>specials</th>\n",
       "      <th>gas_type</th>\n",
       "      <th>AC</th>\n",
       "      <th>rain</th>\n",
       "      <th>sun</th>\n",
       "      <th>refill liters</th>\n",
       "      <th>refill gas</th>\n",
       "    </tr>\n",
       "  </thead>\n",
       "  <tbody>\n",
       "    <tr>\n",
       "      <th>0</th>\n",
       "      <td>28</td>\n",
       "      <td>5</td>\n",
       "      <td>26</td>\n",
       "      <td>21,5</td>\n",
       "      <td>12</td>\n",
       "      <td>NaN</td>\n",
       "      <td>E10</td>\n",
       "      <td>0</td>\n",
       "      <td>0</td>\n",
       "      <td>0</td>\n",
       "      <td>45</td>\n",
       "      <td>E10</td>\n",
       "    </tr>\n",
       "    <tr>\n",
       "      <th>1</th>\n",
       "      <td>12</td>\n",
       "      <td>4,2</td>\n",
       "      <td>30</td>\n",
       "      <td>21,5</td>\n",
       "      <td>13</td>\n",
       "      <td>NaN</td>\n",
       "      <td>E10</td>\n",
       "      <td>0</td>\n",
       "      <td>0</td>\n",
       "      <td>0</td>\n",
       "      <td>NaN</td>\n",
       "      <td>NaN</td>\n",
       "    </tr>\n",
       "    <tr>\n",
       "      <th>2</th>\n",
       "      <td>11,2</td>\n",
       "      <td>5,5</td>\n",
       "      <td>38</td>\n",
       "      <td>21,5</td>\n",
       "      <td>15</td>\n",
       "      <td>NaN</td>\n",
       "      <td>E10</td>\n",
       "      <td>0</td>\n",
       "      <td>0</td>\n",
       "      <td>0</td>\n",
       "      <td>NaN</td>\n",
       "      <td>NaN</td>\n",
       "    </tr>\n",
       "    <tr>\n",
       "      <th>3</th>\n",
       "      <td>12,9</td>\n",
       "      <td>3,9</td>\n",
       "      <td>36</td>\n",
       "      <td>21,5</td>\n",
       "      <td>14</td>\n",
       "      <td>NaN</td>\n",
       "      <td>E10</td>\n",
       "      <td>0</td>\n",
       "      <td>0</td>\n",
       "      <td>0</td>\n",
       "      <td>NaN</td>\n",
       "      <td>NaN</td>\n",
       "    </tr>\n",
       "    <tr>\n",
       "      <th>4</th>\n",
       "      <td>18,5</td>\n",
       "      <td>4,5</td>\n",
       "      <td>46</td>\n",
       "      <td>21,5</td>\n",
       "      <td>15</td>\n",
       "      <td>NaN</td>\n",
       "      <td>E10</td>\n",
       "      <td>0</td>\n",
       "      <td>0</td>\n",
       "      <td>0</td>\n",
       "      <td>NaN</td>\n",
       "      <td>NaN</td>\n",
       "    </tr>\n",
       "    <tr>\n",
       "      <th>...</th>\n",
       "      <td>...</td>\n",
       "      <td>...</td>\n",
       "      <td>...</td>\n",
       "      <td>...</td>\n",
       "      <td>...</td>\n",
       "      <td>...</td>\n",
       "      <td>...</td>\n",
       "      <td>...</td>\n",
       "      <td>...</td>\n",
       "      <td>...</td>\n",
       "      <td>...</td>\n",
       "      <td>...</td>\n",
       "    </tr>\n",
       "    <tr>\n",
       "      <th>383</th>\n",
       "      <td>16</td>\n",
       "      <td>3,7</td>\n",
       "      <td>39</td>\n",
       "      <td>24,5</td>\n",
       "      <td>18</td>\n",
       "      <td>NaN</td>\n",
       "      <td>SP98</td>\n",
       "      <td>0</td>\n",
       "      <td>0</td>\n",
       "      <td>0</td>\n",
       "      <td>NaN</td>\n",
       "      <td>NaN</td>\n",
       "    </tr>\n",
       "    <tr>\n",
       "      <th>384</th>\n",
       "      <td>16,1</td>\n",
       "      <td>4,3</td>\n",
       "      <td>38</td>\n",
       "      <td>25</td>\n",
       "      <td>31</td>\n",
       "      <td>AC</td>\n",
       "      <td>SP98</td>\n",
       "      <td>1</td>\n",
       "      <td>0</td>\n",
       "      <td>0</td>\n",
       "      <td>NaN</td>\n",
       "      <td>NaN</td>\n",
       "    </tr>\n",
       "    <tr>\n",
       "      <th>385</th>\n",
       "      <td>16</td>\n",
       "      <td>3,8</td>\n",
       "      <td>45</td>\n",
       "      <td>25</td>\n",
       "      <td>19</td>\n",
       "      <td>NaN</td>\n",
       "      <td>SP98</td>\n",
       "      <td>0</td>\n",
       "      <td>0</td>\n",
       "      <td>0</td>\n",
       "      <td>NaN</td>\n",
       "      <td>NaN</td>\n",
       "    </tr>\n",
       "    <tr>\n",
       "      <th>386</th>\n",
       "      <td>15,4</td>\n",
       "      <td>4,6</td>\n",
       "      <td>42</td>\n",
       "      <td>25</td>\n",
       "      <td>31</td>\n",
       "      <td>AC</td>\n",
       "      <td>SP98</td>\n",
       "      <td>1</td>\n",
       "      <td>0</td>\n",
       "      <td>0</td>\n",
       "      <td>NaN</td>\n",
       "      <td>NaN</td>\n",
       "    </tr>\n",
       "    <tr>\n",
       "      <th>387</th>\n",
       "      <td>14,7</td>\n",
       "      <td>5</td>\n",
       "      <td>25</td>\n",
       "      <td>25</td>\n",
       "      <td>30</td>\n",
       "      <td>AC</td>\n",
       "      <td>SP98</td>\n",
       "      <td>1</td>\n",
       "      <td>0</td>\n",
       "      <td>0</td>\n",
       "      <td>NaN</td>\n",
       "      <td>NaN</td>\n",
       "    </tr>\n",
       "  </tbody>\n",
       "</table>\n",
       "<p>388 rows × 12 columns</p>\n",
       "</div>"
      ],
      "text/plain": [
       "    distance consume  speed temp_inside  temp_outside specials gas_type  AC  \\\n",
       "0         28       5     26        21,5            12      NaN      E10   0   \n",
       "1         12     4,2     30        21,5            13      NaN      E10   0   \n",
       "2       11,2     5,5     38        21,5            15      NaN      E10   0   \n",
       "3       12,9     3,9     36        21,5            14      NaN      E10   0   \n",
       "4       18,5     4,5     46        21,5            15      NaN      E10   0   \n",
       "..       ...     ...    ...         ...           ...      ...      ...  ..   \n",
       "383       16     3,7     39        24,5            18      NaN     SP98   0   \n",
       "384     16,1     4,3     38          25            31       AC     SP98   1   \n",
       "385       16     3,8     45          25            19      NaN     SP98   0   \n",
       "386     15,4     4,6     42          25            31       AC     SP98   1   \n",
       "387     14,7       5     25          25            30       AC     SP98   1   \n",
       "\n",
       "     rain  sun refill liters refill gas  \n",
       "0       0    0            45        E10  \n",
       "1       0    0           NaN        NaN  \n",
       "2       0    0           NaN        NaN  \n",
       "3       0    0           NaN        NaN  \n",
       "4       0    0           NaN        NaN  \n",
       "..    ...  ...           ...        ...  \n",
       "383     0    0           NaN        NaN  \n",
       "384     0    0           NaN        NaN  \n",
       "385     0    0           NaN        NaN  \n",
       "386     0    0           NaN        NaN  \n",
       "387     0    0           NaN        NaN  \n",
       "\n",
       "[388 rows x 12 columns]"
      ]
     },
     "execution_count": 2,
     "metadata": {},
     "output_type": "execute_result"
    }
   ],
   "source": [
    "df = pd.read_csv('data/measurements.csv')\n",
    "df"
   ]
  },
  {
   "cell_type": "code",
   "execution_count": 3,
   "id": "7c61b3ef",
   "metadata": {},
   "outputs": [
    {
     "data": {
      "text/plain": [
       "False"
      ]
     },
     "execution_count": 3,
     "metadata": {},
     "output_type": "execute_result"
    }
   ],
   "source": [
    "df.duplicated().any()"
   ]
  },
  {
   "cell_type": "code",
   "execution_count": 4,
   "id": "55174175",
   "metadata": {},
   "outputs": [
    {
     "data": {
      "text/plain": [
       "distance           0\n",
       "consume            0\n",
       "speed              0\n",
       "temp_inside       12\n",
       "temp_outside       0\n",
       "specials         295\n",
       "gas_type           0\n",
       "AC                 0\n",
       "rain               0\n",
       "sun                0\n",
       "refill liters    375\n",
       "refill gas       375\n",
       "dtype: int64"
      ]
     },
     "execution_count": 4,
     "metadata": {},
     "output_type": "execute_result"
    }
   ],
   "source": [
    "df.isnull().sum()"
   ]
  },
  {
   "cell_type": "code",
   "execution_count": 5,
   "id": "1a1d0479",
   "metadata": {},
   "outputs": [
    {
     "data": {
      "text/plain": [
       "array([nan, 'AC rain', 'AC', 'rain', 'snow', 'AC snow',\n",
       "       'half rain half sun', 'sun', 'AC sun', 'sun ac', 'ac', 'AC Sun',\n",
       "       'ac rain'], dtype=object)"
      ]
     },
     "execution_count": 5,
     "metadata": {},
     "output_type": "execute_result"
    }
   ],
   "source": [
    "df['specials'].unique()"
   ]
  },
  {
   "cell_type": "code",
   "execution_count": 6,
   "id": "87b67075",
   "metadata": {},
   "outputs": [
    {
     "data": {
      "text/plain": [
       "array(['45', nan, '37,6', '37,7', '38', '38,3', '10', '39', '41', '37',\n",
       "       '37,2'], dtype=object)"
      ]
     },
     "execution_count": 6,
     "metadata": {},
     "output_type": "execute_result"
    }
   ],
   "source": [
    "df['refill liters'].unique()"
   ]
  },
  {
   "cell_type": "code",
   "execution_count": 7,
   "id": "0a816f42",
   "metadata": {},
   "outputs": [
    {
     "data": {
      "text/plain": [
       "array(['E10', nan, 'SP98'], dtype=object)"
      ]
     },
     "execution_count": 7,
     "metadata": {},
     "output_type": "execute_result"
    }
   ],
   "source": [
    "df['refill gas'].unique()"
   ]
  },
  {
   "cell_type": "code",
   "execution_count": 8,
   "id": "527cdfdf",
   "metadata": {},
   "outputs": [
    {
     "data": {
      "text/plain": [
       "array([0, 1])"
      ]
     },
     "execution_count": 8,
     "metadata": {},
     "output_type": "execute_result"
    }
   ],
   "source": [
    "df['rain'].unique()"
   ]
  },
  {
   "cell_type": "markdown",
   "id": "0f8f2d43",
   "metadata": {},
   "source": [
    "Standardazing values in 'specials' column"
   ]
  },
  {
   "cell_type": "code",
   "execution_count": 9,
   "id": "9163dd1e",
   "metadata": {},
   "outputs": [],
   "source": [
    "df['specials'] = df['specials'].str.lower() #convert to lowcase"
   ]
  },
  {
   "cell_type": "code",
   "execution_count": 10,
   "id": "3f58a343",
   "metadata": {},
   "outputs": [],
   "source": [
    "df['specials'] = df['specials'].str.replace(' ', '_') #remove all spaces"
   ]
  },
  {
   "cell_type": "code",
   "execution_count": 14,
   "id": "0d38d5e4",
   "metadata": {},
   "outputs": [
    {
     "data": {
      "text/plain": [
       "array([nan, 'ac_rain', 'ac', 'rain', 'snow', 'ac_snow',\n",
       "       'half_rain_half_sun', 'sun', 'ac_sun'], dtype=object)"
      ]
     },
     "execution_count": 14,
     "metadata": {},
     "output_type": "execute_result"
    }
   ],
   "source": [
    "df['specials'].unique()"
   ]
  },
  {
   "cell_type": "code",
   "execution_count": 13,
   "id": "e040eead",
   "metadata": {},
   "outputs": [],
   "source": [
    "df['specials'] = df['specials'].replace({'sun_ac': 'ac_sun'}) #cleaning values"
   ]
  },
  {
   "cell_type": "code",
   "execution_count": null,
   "id": "a300d153",
   "metadata": {},
   "outputs": [],
   "source": []
  }
 ],
 "metadata": {
  "kernelspec": {
   "display_name": "Python 3 (ipykernel)",
   "language": "python",
   "name": "python3"
  },
  "language_info": {
   "codemirror_mode": {
    "name": "ipython",
    "version": 3
   },
   "file_extension": ".py",
   "mimetype": "text/x-python",
   "name": "python",
   "nbconvert_exporter": "python",
   "pygments_lexer": "ipython3",
   "version": "3.11.5"
  }
 },
 "nbformat": 4,
 "nbformat_minor": 5
}
